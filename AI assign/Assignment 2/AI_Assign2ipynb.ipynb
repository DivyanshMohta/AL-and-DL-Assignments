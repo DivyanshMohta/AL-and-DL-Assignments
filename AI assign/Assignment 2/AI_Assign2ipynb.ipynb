{
  "nbformat": 4,
  "nbformat_minor": 0,
  "metadata": {
    "colab": {
      "provenance": []
    },
    "kernelspec": {
      "name": "python3",
      "display_name": "Python 3"
    },
    "language_info": {
      "name": "python"
    }
  },
  "cells": [
    {
      "cell_type": "code",
      "execution_count": null,
      "metadata": {
        "colab": {
          "base_uri": "https://localhost:8080/"
        },
        "id": "2c1m6A8DJ80x",
        "outputId": "6275345d-b1a1-46ce-c9c2-107304b81cb3"
      },
      "outputs": [
        {
          "output_type": "stream",
          "name": "stdout",
          "text": [
            "Solution found: {'A': 'Red', 'B': 'Green', 'C': 'Green', 'D': 'Red'}\n"
          ]
        }
      ],
      "source": [
        "# Define the CSP\n",
        "class CSP:\n",
        "    def __init__(self, variables, domains, constraints):\n",
        "        self.variables = variables\n",
        "        self.domains = domains\n",
        "        self.constraints = constraints\n",
        "        self.assignment = {}\n",
        "\n",
        "    def is_consistent(self, var, value):\n",
        "        for neighbor in self.constraints[var]:\n",
        "            if neighbor in self.assignment and self.assignment[neighbor] == value:\n",
        "                return False\n",
        "        return True\n",
        "\n",
        "    def backtrack(self):\n",
        "        if len(self.assignment) == len(self.variables):\n",
        "            return self.assignment\n",
        "\n",
        "        # Select an unassigned variable\n",
        "        var = self.select_unassigned_variable()\n",
        "        for value in self.domains[var]:\n",
        "            if self.is_consistent(var, value):\n",
        "                self.assignment[var] = value\n",
        "                result = self.backtrack()\n",
        "                if result:\n",
        "                    return result\n",
        "                del self.assignment[var]\n",
        "\n",
        "        return None\n",
        "\n",
        "    def select_unassigned_variable(self):\n",
        "        for var in self.variables:\n",
        "            if var not in self.assignment:\n",
        "                return var\n",
        "        return None\n",
        "\n",
        "\n",
        "# Define the map coloring problem\n",
        "variables = ['A', 'B', 'C', 'D']\n",
        "domains = {\n",
        "    'A': ['Red', 'Green', 'Blue'],\n",
        "    'B': ['Red', 'Green', 'Blue'],\n",
        "    'C': ['Red', 'Green', 'Blue'],\n",
        "    'D': ['Red', 'Green', 'Blue']\n",
        "}\n",
        "\n",
        "# Constraints: adjacency pairs\n",
        "constraints = {\n",
        "    'A': ['B', 'C'],\n",
        "    'B': ['A', 'D'],\n",
        "    'C': ['A', 'D'],\n",
        "    'D': ['B', 'C']\n",
        "}\n",
        "\n",
        "# Create a CSP instance\n",
        "csp = CSP(variables, domains, constraints)\n",
        "\n",
        "# Solve the CSP\n",
        "solution = csp.backtrack()\n",
        "\n",
        "if solution:\n",
        "    print(\"Solution found:\", solution)\n",
        "else:\n",
        "    print(\"No solution exists.\")\n"
      ]
    },
    {
      "cell_type": "code",
      "source": [],
      "metadata": {
        "id": "jPZNKxkLJ_qc"
      },
      "execution_count": null,
      "outputs": []
    }
  ]
}